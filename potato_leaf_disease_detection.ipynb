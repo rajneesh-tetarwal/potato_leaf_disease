{
  "cells": [
    {
      "cell_type": "code",
      "execution_count": 1,
      "metadata": {
        "colab": {
          "base_uri": "https://localhost:8080/"
        },
        "id": "NsbFZzpuWb-7",
        "outputId": "bf6daf3b-eb30-4617-ef2e-7a43604a4712"
      },
      "outputs": [
        {
          "name": "stdout",
          "output_type": "stream",
          "text": [
            "Mounted at /content/drive\n"
          ]
        }
      ],
      "source": [
        "from google.colab import drive\n",
        "drive.mount('/content/drive')"
      ]
    },
    {
      "cell_type": "code",
      "execution_count": 1,
      "metadata": {
        "id": "DJ_ceYdjWu9e"
      },
      "outputs": [],
      "source": [
        "!pip install -q keras\n",
        "import keras"
      ]
    },
    {
      "cell_type": "code",
      "execution_count": null,
      "metadata": {
        "id": "JhUijM5kXO37"
      },
      "outputs": [],
      "source": [
        "! unzip '/content/drive/MyDrive/Copy of Dataset for CNN.zip'"
      ]
    },
    {
      "cell_type": "code",
      "execution_count": 2,
      "metadata": {
        "id": "zwFnJsE6vjf8"
      },
      "outputs": [],
      "source": [
        "import tensorflow as tf"
      ]
    },
    {
      "cell_type": "code",
      "execution_count": 7,
      "metadata": {
        "colab": {
          "base_uri": "https://localhost:8080/"
        },
        "id": "vXjIj414DMZq",
        "outputId": "f86307ce-05b9-4d94-85de-91b579dd6248"
      },
      "outputs": [
        {
          "name": "stdout",
          "output_type": "stream",
          "text": [
            "Images distributed successfully.\n"
          ]
        }
      ],
      "source": [
        "import os\n",
        "import random\n",
        "import shutil\n",
        "\n",
        "# Define the paths to the source folder and destination folders\n",
        "source_folder = '/content/PlantVillage/Potato___Late_blight'\n",
        "destination_folders = ['/content/images/train/Potato___Late_blight', '/content/images/test/Potato___Late_blight', '/content/images/eval/Potato___Late_blight']\n",
        "\n",
        "# Define the fractions of images for each destination folder\n",
        "fractions = [0.7, 0.15, 0.15]  # 70% to train, 15% to validation, 15% to test\n",
        "\n",
        "# Create destination folders if they don't exist\n",
        "for folder in destination_folders:\n",
        "    os.makedirs(folder, exist_ok=True)\n",
        "\n",
        "# Get list of image files in source folder\n",
        "image_files = [f for f in os.listdir(source_folder) if os.path.isfile(os.path.join(source_folder, f))]\n",
        "\n",
        "# Calculate the number of images to move to each destination folder\n",
        "total_images = len(image_files)\n",
        "num_images_per_folder = [int(total_images * fraction) for fraction in fractions]\n",
        "\n",
        "# Shuffle the image files\n",
        "random.shuffle(image_files)\n",
        "\n",
        "# Move images to destination folders\n",
        "start_index = 0\n",
        "for i, folder in enumerate(destination_folders):\n",
        "    end_index = start_index + num_images_per_folder[i]\n",
        "    for image in image_files[start_index:end_index]:\n",
        "        src_path = os.path.join(source_folder, image)\n",
        "        dst_path = os.path.join(folder, image)\n",
        "        shutil.move(src_path, dst_path)\n",
        "    start_index = end_index\n",
        "\n",
        "print(\"Images distributed successfully.\")"
      ]
    },
    {
      "cell_type": "code",
      "execution_count": null,
      "metadata": {
        "id": "E1MPJUV2w2dF"
      },
      "outputs": [],
      "source": [
        "model = tf.keras.models.Sequential([\n",
        "\n",
        "    # This is the first convolution\n",
        "    tf.keras.layers.Conv2D(64, (3,3), activation='relu', input_shape=(256, 256, 3)),\n",
        "    tf.keras.layers.MaxPooling2D(2, 2),\n",
        "    # The second convolution\n",
        "    tf.keras.layers.Conv2D(64, (3,3), activation='relu'),\n",
        "    tf.keras.layers.MaxPooling2D(2,2),\n",
        "    # The third convolution\n",
        "    tf.keras.layers.Conv2D(64, (3,3), activation='relu'),\n",
        "    tf.keras.layers.MaxPooling2D(2,2),\n",
        "    # The fourth convolution\n",
        "    tf.keras.layers.Conv2D(64, (3,3), activation='relu'),\n",
        "    tf.keras.layers.MaxPooling2D(2,2),\n",
        "    # The fifth convolution\n",
        "    tf.keras.layers.Conv2D(64, (3,3), activation='relu'),\n",
        "    tf.keras.layers.MaxPooling2D(2,2),\n",
        "    # Flatten the results to feed into a DNN\n",
        "    tf.keras.layers.Flatten(),\n",
        "    # 512 neuron hidden layer\n",
        "    # tf.keras.layers.Dense(512, activation='relu'),\n",
        "    tf.keras.layers.Dense(256, activation='relu'),\n",
        "\n",
        "    tf.keras.layers.Dense(3, activation='softmax')\n",
        "])"
      ]
    },
    {
      "cell_type": "code",
      "execution_count": 4,
      "metadata": {},
      "outputs": [
        {
          "data": {
            "text/html": [
              "<pre style=\"white-space:pre;overflow-x:auto;line-height:normal;font-family:Menlo,'DejaVu Sans Mono',consolas,'Courier New',monospace\"><span style=\"font-weight: bold\">Model: \"sequential\"</span>\n",
              "</pre>\n"
            ],
            "text/plain": [
              "\u001b[1mModel: \"sequential\"\u001b[0m\n"
            ]
          },
          "metadata": {},
          "output_type": "display_data"
        },
        {
          "data": {
            "text/html": [
              "<pre style=\"white-space:pre;overflow-x:auto;line-height:normal;font-family:Menlo,'DejaVu Sans Mono',consolas,'Courier New',monospace\">┏━━━━━━━━━━━━━━━━━━━━━━━━━━━━━━━━━┳━━━━━━━━━━━━━━━━━━━━━━━━┳━━━━━━━━━━━━━━━┓\n",
              "┃<span style=\"font-weight: bold\"> Layer (type)                    </span>┃<span style=\"font-weight: bold\"> Output Shape           </span>┃<span style=\"font-weight: bold\">       Param # </span>┃\n",
              "┡━━━━━━━━━━━━━━━━━━━━━━━━━━━━━━━━━╇━━━━━━━━━━━━━━━━━━━━━━━━╇━━━━━━━━━━━━━━━┩\n",
              "│ conv2d (<span style=\"color: #0087ff; text-decoration-color: #0087ff\">Conv2D</span>)                 │ (<span style=\"color: #00d7ff; text-decoration-color: #00d7ff\">None</span>, <span style=\"color: #00af00; text-decoration-color: #00af00\">254</span>, <span style=\"color: #00af00; text-decoration-color: #00af00\">254</span>, <span style=\"color: #00af00; text-decoration-color: #00af00\">64</span>)   │         <span style=\"color: #00af00; text-decoration-color: #00af00\">1,792</span> │\n",
              "├─────────────────────────────────┼────────────────────────┼───────────────┤\n",
              "│ max_pooling2d (<span style=\"color: #0087ff; text-decoration-color: #0087ff\">MaxPooling2D</span>)    │ (<span style=\"color: #00d7ff; text-decoration-color: #00d7ff\">None</span>, <span style=\"color: #00af00; text-decoration-color: #00af00\">127</span>, <span style=\"color: #00af00; text-decoration-color: #00af00\">127</span>, <span style=\"color: #00af00; text-decoration-color: #00af00\">64</span>)   │             <span style=\"color: #00af00; text-decoration-color: #00af00\">0</span> │\n",
              "├─────────────────────────────────┼────────────────────────┼───────────────┤\n",
              "│ conv2d_1 (<span style=\"color: #0087ff; text-decoration-color: #0087ff\">Conv2D</span>)               │ (<span style=\"color: #00d7ff; text-decoration-color: #00d7ff\">None</span>, <span style=\"color: #00af00; text-decoration-color: #00af00\">125</span>, <span style=\"color: #00af00; text-decoration-color: #00af00\">125</span>, <span style=\"color: #00af00; text-decoration-color: #00af00\">64</span>)   │        <span style=\"color: #00af00; text-decoration-color: #00af00\">36,928</span> │\n",
              "├─────────────────────────────────┼────────────────────────┼───────────────┤\n",
              "│ max_pooling2d_1 (<span style=\"color: #0087ff; text-decoration-color: #0087ff\">MaxPooling2D</span>)  │ (<span style=\"color: #00d7ff; text-decoration-color: #00d7ff\">None</span>, <span style=\"color: #00af00; text-decoration-color: #00af00\">62</span>, <span style=\"color: #00af00; text-decoration-color: #00af00\">62</span>, <span style=\"color: #00af00; text-decoration-color: #00af00\">64</span>)     │             <span style=\"color: #00af00; text-decoration-color: #00af00\">0</span> │\n",
              "├─────────────────────────────────┼────────────────────────┼───────────────┤\n",
              "│ conv2d_2 (<span style=\"color: #0087ff; text-decoration-color: #0087ff\">Conv2D</span>)               │ (<span style=\"color: #00d7ff; text-decoration-color: #00d7ff\">None</span>, <span style=\"color: #00af00; text-decoration-color: #00af00\">60</span>, <span style=\"color: #00af00; text-decoration-color: #00af00\">60</span>, <span style=\"color: #00af00; text-decoration-color: #00af00\">64</span>)     │        <span style=\"color: #00af00; text-decoration-color: #00af00\">36,928</span> │\n",
              "├─────────────────────────────────┼────────────────────────┼───────────────┤\n",
              "│ max_pooling2d_2 (<span style=\"color: #0087ff; text-decoration-color: #0087ff\">MaxPooling2D</span>)  │ (<span style=\"color: #00d7ff; text-decoration-color: #00d7ff\">None</span>, <span style=\"color: #00af00; text-decoration-color: #00af00\">30</span>, <span style=\"color: #00af00; text-decoration-color: #00af00\">30</span>, <span style=\"color: #00af00; text-decoration-color: #00af00\">64</span>)     │             <span style=\"color: #00af00; text-decoration-color: #00af00\">0</span> │\n",
              "├─────────────────────────────────┼────────────────────────┼───────────────┤\n",
              "│ conv2d_3 (<span style=\"color: #0087ff; text-decoration-color: #0087ff\">Conv2D</span>)               │ (<span style=\"color: #00d7ff; text-decoration-color: #00d7ff\">None</span>, <span style=\"color: #00af00; text-decoration-color: #00af00\">28</span>, <span style=\"color: #00af00; text-decoration-color: #00af00\">28</span>, <span style=\"color: #00af00; text-decoration-color: #00af00\">64</span>)     │        <span style=\"color: #00af00; text-decoration-color: #00af00\">36,928</span> │\n",
              "├─────────────────────────────────┼────────────────────────┼───────────────┤\n",
              "│ max_pooling2d_3 (<span style=\"color: #0087ff; text-decoration-color: #0087ff\">MaxPooling2D</span>)  │ (<span style=\"color: #00d7ff; text-decoration-color: #00d7ff\">None</span>, <span style=\"color: #00af00; text-decoration-color: #00af00\">14</span>, <span style=\"color: #00af00; text-decoration-color: #00af00\">14</span>, <span style=\"color: #00af00; text-decoration-color: #00af00\">64</span>)     │             <span style=\"color: #00af00; text-decoration-color: #00af00\">0</span> │\n",
              "├─────────────────────────────────┼────────────────────────┼───────────────┤\n",
              "│ conv2d_4 (<span style=\"color: #0087ff; text-decoration-color: #0087ff\">Conv2D</span>)               │ (<span style=\"color: #00d7ff; text-decoration-color: #00d7ff\">None</span>, <span style=\"color: #00af00; text-decoration-color: #00af00\">12</span>, <span style=\"color: #00af00; text-decoration-color: #00af00\">12</span>, <span style=\"color: #00af00; text-decoration-color: #00af00\">64</span>)     │        <span style=\"color: #00af00; text-decoration-color: #00af00\">36,928</span> │\n",
              "├─────────────────────────────────┼────────────────────────┼───────────────┤\n",
              "│ max_pooling2d_4 (<span style=\"color: #0087ff; text-decoration-color: #0087ff\">MaxPooling2D</span>)  │ (<span style=\"color: #00d7ff; text-decoration-color: #00d7ff\">None</span>, <span style=\"color: #00af00; text-decoration-color: #00af00\">6</span>, <span style=\"color: #00af00; text-decoration-color: #00af00\">6</span>, <span style=\"color: #00af00; text-decoration-color: #00af00\">64</span>)       │             <span style=\"color: #00af00; text-decoration-color: #00af00\">0</span> │\n",
              "├─────────────────────────────────┼────────────────────────┼───────────────┤\n",
              "│ flatten (<span style=\"color: #0087ff; text-decoration-color: #0087ff\">Flatten</span>)               │ (<span style=\"color: #00d7ff; text-decoration-color: #00d7ff\">None</span>, <span style=\"color: #00af00; text-decoration-color: #00af00\">2304</span>)           │             <span style=\"color: #00af00; text-decoration-color: #00af00\">0</span> │\n",
              "├─────────────────────────────────┼────────────────────────┼───────────────┤\n",
              "│ dense (<span style=\"color: #0087ff; text-decoration-color: #0087ff\">Dense</span>)                   │ (<span style=\"color: #00d7ff; text-decoration-color: #00d7ff\">None</span>, <span style=\"color: #00af00; text-decoration-color: #00af00\">256</span>)            │       <span style=\"color: #00af00; text-decoration-color: #00af00\">590,080</span> │\n",
              "├─────────────────────────────────┼────────────────────────┼───────────────┤\n",
              "│ dense_1 (<span style=\"color: #0087ff; text-decoration-color: #0087ff\">Dense</span>)                 │ (<span style=\"color: #00d7ff; text-decoration-color: #00d7ff\">None</span>, <span style=\"color: #00af00; text-decoration-color: #00af00\">3</span>)              │           <span style=\"color: #00af00; text-decoration-color: #00af00\">771</span> │\n",
              "└─────────────────────────────────┴────────────────────────┴───────────────┘\n",
              "</pre>\n"
            ],
            "text/plain": [
              "┏━━━━━━━━━━━━━━━━━━━━━━━━━━━━━━━━━┳━━━━━━━━━━━━━━━━━━━━━━━━┳━━━━━━━━━━━━━━━┓\n",
              "┃\u001b[1m \u001b[0m\u001b[1mLayer (type)                   \u001b[0m\u001b[1m \u001b[0m┃\u001b[1m \u001b[0m\u001b[1mOutput Shape          \u001b[0m\u001b[1m \u001b[0m┃\u001b[1m \u001b[0m\u001b[1m      Param #\u001b[0m\u001b[1m \u001b[0m┃\n",
              "┡━━━━━━━━━━━━━━━━━━━━━━━━━━━━━━━━━╇━━━━━━━━━━━━━━━━━━━━━━━━╇━━━━━━━━━━━━━━━┩\n",
              "│ conv2d (\u001b[38;5;33mConv2D\u001b[0m)                 │ (\u001b[38;5;45mNone\u001b[0m, \u001b[38;5;34m254\u001b[0m, \u001b[38;5;34m254\u001b[0m, \u001b[38;5;34m64\u001b[0m)   │         \u001b[38;5;34m1,792\u001b[0m │\n",
              "├─────────────────────────────────┼────────────────────────┼───────────────┤\n",
              "│ max_pooling2d (\u001b[38;5;33mMaxPooling2D\u001b[0m)    │ (\u001b[38;5;45mNone\u001b[0m, \u001b[38;5;34m127\u001b[0m, \u001b[38;5;34m127\u001b[0m, \u001b[38;5;34m64\u001b[0m)   │             \u001b[38;5;34m0\u001b[0m │\n",
              "├─────────────────────────────────┼────────────────────────┼───────────────┤\n",
              "│ conv2d_1 (\u001b[38;5;33mConv2D\u001b[0m)               │ (\u001b[38;5;45mNone\u001b[0m, \u001b[38;5;34m125\u001b[0m, \u001b[38;5;34m125\u001b[0m, \u001b[38;5;34m64\u001b[0m)   │        \u001b[38;5;34m36,928\u001b[0m │\n",
              "├─────────────────────────────────┼────────────────────────┼───────────────┤\n",
              "│ max_pooling2d_1 (\u001b[38;5;33mMaxPooling2D\u001b[0m)  │ (\u001b[38;5;45mNone\u001b[0m, \u001b[38;5;34m62\u001b[0m, \u001b[38;5;34m62\u001b[0m, \u001b[38;5;34m64\u001b[0m)     │             \u001b[38;5;34m0\u001b[0m │\n",
              "├─────────────────────────────────┼────────────────────────┼───────────────┤\n",
              "│ conv2d_2 (\u001b[38;5;33mConv2D\u001b[0m)               │ (\u001b[38;5;45mNone\u001b[0m, \u001b[38;5;34m60\u001b[0m, \u001b[38;5;34m60\u001b[0m, \u001b[38;5;34m64\u001b[0m)     │        \u001b[38;5;34m36,928\u001b[0m │\n",
              "├─────────────────────────────────┼────────────────────────┼───────────────┤\n",
              "│ max_pooling2d_2 (\u001b[38;5;33mMaxPooling2D\u001b[0m)  │ (\u001b[38;5;45mNone\u001b[0m, \u001b[38;5;34m30\u001b[0m, \u001b[38;5;34m30\u001b[0m, \u001b[38;5;34m64\u001b[0m)     │             \u001b[38;5;34m0\u001b[0m │\n",
              "├─────────────────────────────────┼────────────────────────┼───────────────┤\n",
              "│ conv2d_3 (\u001b[38;5;33mConv2D\u001b[0m)               │ (\u001b[38;5;45mNone\u001b[0m, \u001b[38;5;34m28\u001b[0m, \u001b[38;5;34m28\u001b[0m, \u001b[38;5;34m64\u001b[0m)     │        \u001b[38;5;34m36,928\u001b[0m │\n",
              "├─────────────────────────────────┼────────────────────────┼───────────────┤\n",
              "│ max_pooling2d_3 (\u001b[38;5;33mMaxPooling2D\u001b[0m)  │ (\u001b[38;5;45mNone\u001b[0m, \u001b[38;5;34m14\u001b[0m, \u001b[38;5;34m14\u001b[0m, \u001b[38;5;34m64\u001b[0m)     │             \u001b[38;5;34m0\u001b[0m │\n",
              "├─────────────────────────────────┼────────────────────────┼───────────────┤\n",
              "│ conv2d_4 (\u001b[38;5;33mConv2D\u001b[0m)               │ (\u001b[38;5;45mNone\u001b[0m, \u001b[38;5;34m12\u001b[0m, \u001b[38;5;34m12\u001b[0m, \u001b[38;5;34m64\u001b[0m)     │        \u001b[38;5;34m36,928\u001b[0m │\n",
              "├─────────────────────────────────┼────────────────────────┼───────────────┤\n",
              "│ max_pooling2d_4 (\u001b[38;5;33mMaxPooling2D\u001b[0m)  │ (\u001b[38;5;45mNone\u001b[0m, \u001b[38;5;34m6\u001b[0m, \u001b[38;5;34m6\u001b[0m, \u001b[38;5;34m64\u001b[0m)       │             \u001b[38;5;34m0\u001b[0m │\n",
              "├─────────────────────────────────┼────────────────────────┼───────────────┤\n",
              "│ flatten (\u001b[38;5;33mFlatten\u001b[0m)               │ (\u001b[38;5;45mNone\u001b[0m, \u001b[38;5;34m2304\u001b[0m)           │             \u001b[38;5;34m0\u001b[0m │\n",
              "├─────────────────────────────────┼────────────────────────┼───────────────┤\n",
              "│ dense (\u001b[38;5;33mDense\u001b[0m)                   │ (\u001b[38;5;45mNone\u001b[0m, \u001b[38;5;34m256\u001b[0m)            │       \u001b[38;5;34m590,080\u001b[0m │\n",
              "├─────────────────────────────────┼────────────────────────┼───────────────┤\n",
              "│ dense_1 (\u001b[38;5;33mDense\u001b[0m)                 │ (\u001b[38;5;45mNone\u001b[0m, \u001b[38;5;34m3\u001b[0m)              │           \u001b[38;5;34m771\u001b[0m │\n",
              "└─────────────────────────────────┴────────────────────────┴───────────────┘\n"
            ]
          },
          "metadata": {},
          "output_type": "display_data"
        },
        {
          "data": {
            "text/html": [
              "<pre style=\"white-space:pre;overflow-x:auto;line-height:normal;font-family:Menlo,'DejaVu Sans Mono',consolas,'Courier New',monospace\"><span style=\"font-weight: bold\"> Total params: </span><span style=\"color: #00af00; text-decoration-color: #00af00\">740,355</span> (2.82 MB)\n",
              "</pre>\n"
            ],
            "text/plain": [
              "\u001b[1m Total params: \u001b[0m\u001b[38;5;34m740,355\u001b[0m (2.82 MB)\n"
            ]
          },
          "metadata": {},
          "output_type": "display_data"
        },
        {
          "data": {
            "text/html": [
              "<pre style=\"white-space:pre;overflow-x:auto;line-height:normal;font-family:Menlo,'DejaVu Sans Mono',consolas,'Courier New',monospace\"><span style=\"font-weight: bold\"> Trainable params: </span><span style=\"color: #00af00; text-decoration-color: #00af00\">740,355</span> (2.82 MB)\n",
              "</pre>\n"
            ],
            "text/plain": [
              "\u001b[1m Trainable params: \u001b[0m\u001b[38;5;34m740,355\u001b[0m (2.82 MB)\n"
            ]
          },
          "metadata": {},
          "output_type": "display_data"
        },
        {
          "data": {
            "text/html": [
              "<pre style=\"white-space:pre;overflow-x:auto;line-height:normal;font-family:Menlo,'DejaVu Sans Mono',consolas,'Courier New',monospace\"><span style=\"font-weight: bold\"> Non-trainable params: </span><span style=\"color: #00af00; text-decoration-color: #00af00\">0</span> (0.00 B)\n",
              "</pre>\n"
            ],
            "text/plain": [
              "\u001b[1m Non-trainable params: \u001b[0m\u001b[38;5;34m0\u001b[0m (0.00 B)\n"
            ]
          },
          "metadata": {},
          "output_type": "display_data"
        }
      ],
      "source": [
        "model.summary()"
      ]
    },
    {
      "cell_type": "code",
      "execution_count": 24,
      "metadata": {
        "id": "eSj-9UsUzXDp"
      },
      "outputs": [],
      "source": [
        "from tensorflow.keras.optimizers import Adam\n",
        "optimizer = Adam(learning_rate=0.001)\n",
        "model.compile(loss='categorical_crossentropy',\n",
        "              optimizer=optimizer,\n",
        "              metrics=['acc'])"
      ]
    },
    {
      "cell_type": "code",
      "execution_count": 25,
      "metadata": {
        "colab": {
          "base_uri": "https://localhost:8080/"
        },
        "id": "WTbSZ9UH0MOQ",
        "outputId": "2dea535f-f7ee-4d0d-929f-87854df1361e"
      },
      "outputs": [
        {
          "name": "stdout",
          "output_type": "stream",
          "text": [
            "Found 1506 images belonging to 3 classes.\n",
            "Found 322 images belonging to 3 classes.\n"
          ]
        }
      ],
      "source": [
        "from tensorflow.keras.preprocessing.image import ImageDataGenerator\n",
        "\n",
        "train_datagen = ImageDataGenerator(\n",
        "      rescale=1./255,               # Rescale pixel values to [0, 1]\n",
        "      horizontal_flip=True,         # Enable horizontal flipping\n",
        "      vertical_flip=True,           # Enable vertical flipping\n",
        "      rotation_range=30,           # Randomly rotate images up to 30 degrees\n",
        "      fill_mode='nearest',\n",
        "      )\n",
        "\n",
        "# Flow training images in batches of 32 using train_datagen generator\n",
        "train_generator = train_datagen.flow_from_directory(\n",
        "        '/content/images/train',  # This is the source directory for training images\n",
        "        target_size=(256, 256),  # All images will be resized to 256x256\n",
        "        batch_size=32,\n",
        "        class_mode='categorical')\n",
        "\n",
        "validation_datagen = ImageDataGenerator(\n",
        "        rescale=1./255,\n",
        "        # horizontal_flip=True,         # Enable horizontal flipping\n",
        "        # vertical_flip=True,           # Enable vertical flipping\n",
        "        # rotation_range=50,           # Randomly rotate images up to 50 degrees\n",
        "        # fill_mode='nearest',\n",
        "        )\n",
        "\n",
        "validation_generator = validation_datagen.flow_from_directory(\n",
        "        '/content/images/eval',\n",
        "        target_size=(256,256),\n",
        "        class_mode='categorical')\n"
      ]
    },
    {
      "cell_type": "code",
      "execution_count": 26,
      "metadata": {
        "id": "SxAQciH4Qsza"
      },
      "outputs": [],
      "source": [
        "# class StopTrainingOnAccuracy(tf.keras.callbacks.Callback):\n",
        "#     def __init__(self, target_accuracy=0.998):\n",
        "#         super(StopTrainingOnAccuracy, self).__init__()\n",
        "#         self.target_accuracy = target_accuracy\n",
        "\n",
        "#     def on_epoch_end(self, epoch, logs=None):\n",
        "#         if logs['val_accuracy'] >= self.target_accuracy:\n",
        "#             print(f\"\\nReached validation accuracy of {self.target_accuracy}! Stopping training.\")\n",
        "#             self.model.stop_training = True\n"
      ]
    },
    {
      "cell_type": "code",
      "execution_count": 12,
      "metadata": {
        "id": "MmV41J3RQxJ2"
      },
      "outputs": [],
      "source": [
        "# stop_training_callback = StopTrainingOnAccuracy(target_accuracy=0.998)"
      ]
    },
    {
      "cell_type": "code",
      "execution_count": 27,
      "metadata": {
        "colab": {
          "base_uri": "https://localhost:8080/"
        },
        "id": "cGvjf9P715ss",
        "outputId": "afdee003-1467-4ff1-888b-32e017e779ba"
      },
      "outputs": [
        {
          "name": "stdout",
          "output_type": "stream",
          "text": [
            "Epoch 1/50\n",
            "48/48 [==============================] - 61s 513ms/step - loss: 0.9378 - acc: 0.4807 - val_loss: 0.8862 - val_acc: 0.4658\n",
            "Epoch 2/50\n",
            "48/48 [==============================] - 25s 521ms/step - loss: 0.7637 - acc: 0.6660 - val_loss: 0.6063 - val_acc: 0.7733\n",
            "Epoch 3/50\n",
            "48/48 [==============================] - 24s 508ms/step - loss: 0.4415 - acc: 0.8400 - val_loss: 0.4009 - val_acc: 0.8758\n",
            "Epoch 4/50\n",
            "48/48 [==============================] - 25s 505ms/step - loss: 0.3220 - acc: 0.8785 - val_loss: 0.3064 - val_acc: 0.8696\n",
            "Epoch 5/50\n",
            "48/48 [==============================] - 25s 520ms/step - loss: 0.2782 - acc: 0.8785 - val_loss: 0.3447 - val_acc: 0.8354\n",
            "Epoch 6/50\n",
            "48/48 [==============================] - 24s 509ms/step - loss: 0.2137 - acc: 0.9183 - val_loss: 0.2144 - val_acc: 0.8851\n",
            "Epoch 7/50\n",
            "48/48 [==============================] - 24s 495ms/step - loss: 0.1962 - acc: 0.9250 - val_loss: 0.2741 - val_acc: 0.9099\n",
            "Epoch 8/50\n",
            "48/48 [==============================] - 27s 547ms/step - loss: 0.2127 - acc: 0.9157 - val_loss: 0.1889 - val_acc: 0.9410\n",
            "Epoch 9/50\n",
            "48/48 [==============================] - 25s 514ms/step - loss: 0.1525 - acc: 0.9456 - val_loss: 0.1028 - val_acc: 0.9627\n",
            "Epoch 10/50\n",
            "48/48 [==============================] - 24s 514ms/step - loss: 0.1816 - acc: 0.9263 - val_loss: 0.0919 - val_acc: 0.9658\n",
            "Epoch 11/50\n",
            "48/48 [==============================] - 25s 522ms/step - loss: 0.1568 - acc: 0.9396 - val_loss: 0.2726 - val_acc: 0.8913\n",
            "Epoch 12/50\n",
            "48/48 [==============================] - 25s 511ms/step - loss: 0.1841 - acc: 0.9316 - val_loss: 0.3551 - val_acc: 0.8571\n",
            "Epoch 13/50\n",
            "48/48 [==============================] - 25s 521ms/step - loss: 0.1553 - acc: 0.9436 - val_loss: 0.1199 - val_acc: 0.9503\n",
            "Epoch 14/50\n",
            "48/48 [==============================] - 25s 516ms/step - loss: 0.1383 - acc: 0.9495 - val_loss: 0.1783 - val_acc: 0.9224\n",
            "Epoch 15/50\n",
            "48/48 [==============================] - 24s 502ms/step - loss: 0.1296 - acc: 0.9542 - val_loss: 0.1587 - val_acc: 0.9286\n",
            "Epoch 16/50\n",
            "48/48 [==============================] - 25s 519ms/step - loss: 0.1022 - acc: 0.9608 - val_loss: 0.0893 - val_acc: 0.9689\n",
            "Epoch 17/50\n",
            "48/48 [==============================] - 25s 530ms/step - loss: 0.1026 - acc: 0.9595 - val_loss: 0.0687 - val_acc: 0.9689\n",
            "Epoch 18/50\n",
            "48/48 [==============================] - 24s 509ms/step - loss: 0.0948 - acc: 0.9641 - val_loss: 0.1838 - val_acc: 0.9099\n",
            "Epoch 19/50\n",
            "48/48 [==============================] - 25s 516ms/step - loss: 0.1351 - acc: 0.9542 - val_loss: 0.0621 - val_acc: 0.9752\n",
            "Epoch 20/50\n",
            "48/48 [==============================] - 25s 521ms/step - loss: 0.1656 - acc: 0.9416 - val_loss: 0.1086 - val_acc: 0.9658\n",
            "Epoch 21/50\n",
            "48/48 [==============================] - 25s 523ms/step - loss: 0.1205 - acc: 0.9575 - val_loss: 0.0934 - val_acc: 0.9658\n",
            "Epoch 22/50\n",
            "48/48 [==============================] - 25s 513ms/step - loss: 0.0764 - acc: 0.9754 - val_loss: 0.0756 - val_acc: 0.9658\n",
            "Epoch 23/50\n",
            "48/48 [==============================] - 25s 513ms/step - loss: 0.0884 - acc: 0.9641 - val_loss: 0.0591 - val_acc: 0.9752\n",
            "Epoch 24/50\n",
            "48/48 [==============================] - 25s 517ms/step - loss: 0.0804 - acc: 0.9655 - val_loss: 0.0983 - val_acc: 0.9627\n",
            "Epoch 25/50\n",
            "48/48 [==============================] - 25s 522ms/step - loss: 0.0668 - acc: 0.9721 - val_loss: 0.0971 - val_acc: 0.9565\n",
            "Epoch 26/50\n",
            "48/48 [==============================] - 25s 514ms/step - loss: 0.0651 - acc: 0.9761 - val_loss: 0.0492 - val_acc: 0.9783\n",
            "Epoch 27/50\n",
            "48/48 [==============================] - 24s 507ms/step - loss: 0.1001 - acc: 0.9628 - val_loss: 0.1428 - val_acc: 0.9472\n",
            "Epoch 28/50\n",
            "48/48 [==============================] - 25s 516ms/step - loss: 0.0707 - acc: 0.9761 - val_loss: 0.3144 - val_acc: 0.8789\n",
            "Epoch 29/50\n",
            "48/48 [==============================] - 25s 505ms/step - loss: 0.0750 - acc: 0.9661 - val_loss: 0.1074 - val_acc: 0.9627\n",
            "Epoch 30/50\n",
            "48/48 [==============================] - 25s 517ms/step - loss: 0.0503 - acc: 0.9821 - val_loss: 0.1737 - val_acc: 0.9410\n",
            "Epoch 31/50\n",
            "48/48 [==============================] - 24s 490ms/step - loss: 0.0949 - acc: 0.9648 - val_loss: 0.0753 - val_acc: 0.9783\n",
            "Epoch 32/50\n",
            "48/48 [==============================] - 25s 517ms/step - loss: 0.0409 - acc: 0.9834 - val_loss: 0.0438 - val_acc: 0.9814\n",
            "Epoch 33/50\n",
            "48/48 [==============================] - 25s 534ms/step - loss: 0.0485 - acc: 0.9834 - val_loss: 0.0473 - val_acc: 0.9845\n",
            "Epoch 34/50\n",
            "48/48 [==============================] - 24s 501ms/step - loss: 0.0462 - acc: 0.9861 - val_loss: 0.0874 - val_acc: 0.9720\n",
            "Epoch 35/50\n",
            "48/48 [==============================] - 24s 501ms/step - loss: 0.0370 - acc: 0.9900 - val_loss: 0.1151 - val_acc: 0.9596\n",
            "Epoch 36/50\n",
            "48/48 [==============================] - 24s 490ms/step - loss: 0.0371 - acc: 0.9900 - val_loss: 0.0353 - val_acc: 0.9845\n",
            "Epoch 37/50\n",
            "48/48 [==============================] - 25s 511ms/step - loss: 0.0535 - acc: 0.9834 - val_loss: 0.0537 - val_acc: 0.9814\n",
            "Epoch 38/50\n",
            "48/48 [==============================] - 26s 538ms/step - loss: 0.0331 - acc: 0.9900 - val_loss: 0.1807 - val_acc: 0.9472\n",
            "Epoch 39/50\n",
            "48/48 [==============================] - 25s 512ms/step - loss: 0.0437 - acc: 0.9841 - val_loss: 0.0938 - val_acc: 0.9565\n",
            "Epoch 40/50\n",
            "48/48 [==============================] - 25s 512ms/step - loss: 0.0424 - acc: 0.9854 - val_loss: 0.0524 - val_acc: 0.9876\n",
            "Epoch 41/50\n",
            "48/48 [==============================] - 25s 514ms/step - loss: 0.0301 - acc: 0.9894 - val_loss: 0.0603 - val_acc: 0.9814\n",
            "Epoch 42/50\n",
            "48/48 [==============================] - 24s 511ms/step - loss: 0.0274 - acc: 0.9880 - val_loss: 0.0922 - val_acc: 0.9689\n",
            "Epoch 43/50\n",
            "48/48 [==============================] - 24s 492ms/step - loss: 0.0223 - acc: 0.9894 - val_loss: 0.1300 - val_acc: 0.9627\n",
            "Epoch 44/50\n",
            "48/48 [==============================] - 25s 522ms/step - loss: 0.0431 - acc: 0.9847 - val_loss: 0.0796 - val_acc: 0.9752\n",
            "Epoch 45/50\n",
            "48/48 [==============================] - 25s 513ms/step - loss: 0.0271 - acc: 0.9914 - val_loss: 0.0343 - val_acc: 0.9814\n",
            "Epoch 46/50\n",
            "48/48 [==============================] - 25s 520ms/step - loss: 0.0352 - acc: 0.9880 - val_loss: 0.0441 - val_acc: 0.9814\n",
            "Epoch 47/50\n",
            "48/48 [==============================] - 25s 511ms/step - loss: 0.0339 - acc: 0.9880 - val_loss: 0.1921 - val_acc: 0.9348\n",
            "Epoch 48/50\n",
            "48/48 [==============================] - 25s 517ms/step - loss: 0.0480 - acc: 0.9834 - val_loss: 0.0500 - val_acc: 0.9814\n",
            "Epoch 49/50\n",
            "48/48 [==============================] - 24s 505ms/step - loss: 0.0334 - acc: 0.9854 - val_loss: 0.0260 - val_acc: 0.9876\n",
            "Epoch 50/50\n",
            "48/48 [==============================] - 24s 507ms/step - loss: 0.0121 - acc: 0.9973 - val_loss: 0.0425 - val_acc: 0.9845\n"
          ]
        }
      ],
      "source": [
        "history = model.fit(\n",
        "      train_generator,\n",
        "      epochs=50,\n",
        "      verbose=1,\n",
        "      validation_data=validation_generator)"
      ]
    },
    {
      "cell_type": "code",
      "execution_count": 28,
      "metadata": {
        "colab": {
          "base_uri": "https://localhost:8080/"
        },
        "id": "PvWazQ6zUHdH",
        "outputId": "c228fdbe-4efa-4eab-c53a-4a8e4987ba25"
      },
      "outputs": [
        {
          "name": "stdout",
          "output_type": "stream",
          "text": [
            "Model saved successfully at: /content/model\n"
          ]
        }
      ],
      "source": [
        "model_path='/content/model'\n",
        "model.save(model_path)\n",
        "\n",
        "print(\"Model saved successfully at:\", model_path)"
      ]
    },
    {
      "cell_type": "code",
      "execution_count": 29,
      "metadata": {
        "colab": {
          "base_uri": "https://localhost:8080/"
        },
        "id": "qP3H5Cm0UpUE",
        "outputId": "e5d0497e-0d46-4f69-db94-f63b6dc750a9"
      },
      "outputs": [
        {
          "name": "stdout",
          "output_type": "stream",
          "text": [
            "Found 322 images belonging to 3 classes.\n"
          ]
        }
      ],
      "source": [
        "test_datagen = ImageDataGenerator(\n",
        "    rescale=1./255  # Rescale pixel values to [0, 1]\n",
        ")\n",
        "\n",
        "test_generator = test_datagen.flow_from_directory(\n",
        "    '/content/images/test',  # Path to your test data directory\n",
        "    target_size=(256, 256),  # All images will be resized to 256x256\n",
        "    batch_size=32,\n",
        "    class_mode='categorical'\n",
        ")"
      ]
    },
    {
      "cell_type": "code",
      "execution_count": 31,
      "metadata": {
        "colab": {
          "base_uri": "https://localhost:8080/"
        },
        "id": "JowVJaVaWkGB",
        "outputId": "ccef0d1e-e47b-4aa4-900c-b58e316cb164"
      },
      "outputs": [
        {
          "name": "stdout",
          "output_type": "stream",
          "text": [
            "11/11 [==============================] - 1s 65ms/step - loss: 0.0692 - acc: 0.9814\n",
            "Test Loss: 0.06923475861549377\n",
            "Test Accuracy: 0.9813664555549622\n"
          ]
        }
      ],
      "source": [
        "model_path = '/content/model'  # Update with the path to your saved model\n",
        "model = tf.keras.models.load_model(model_path)\n",
        "\n",
        "# Evaluate the model on the test dataset\n",
        "test_loss, test_accuracy = model.evaluate(test_generator)\n",
        "\n",
        "print(f'Test Loss: {test_loss}')\n",
        "print(f'Test Accuracy: {test_accuracy}')"
      ]
    },
    {
      "cell_type": "code",
      "execution_count": 34,
      "metadata": {
        "colab": {
          "base_uri": "https://localhost:8080/"
        },
        "id": "GwwpQIWfZbWA",
        "outputId": "680f614f-0773-465a-f64d-055415d13fc7"
      },
      "outputs": [
        {
          "name": "stdout",
          "output_type": "stream",
          "text": [
            "1/1 [==============================] - 0s 88ms/step\n",
            "Predicted class index: 0\n"
          ]
        }
      ],
      "source": [
        "import tensorflow as tf\n",
        "import numpy as np\n",
        "from tensorflow.keras.preprocessing import image\n",
        "\n",
        "# Load the trained model\n",
        "model_path = '/content/model'  # Update with the path to your saved model\n",
        "model = tf.keras.models.load_model(model_path)\n",
        "\n",
        "# Load the image\n",
        "img_path = '/content/images/potato-blight.jpg'  # Update with the path to your image\n",
        "img = image.load_img(img_path, target_size=(256, 256))  # Assuming you resize your images to 256x256 during training\n",
        "img_array = image.img_to_array(img)\n",
        "img_array = np.expand_dims(img_array, axis=0)  # Add batch dimension\n",
        "\n",
        "# Preprocess the image (same preprocessing as training data)\n",
        "img_array /= 255.0  # Normalize pixel values\n",
        "\n",
        "# Perform prediction\n",
        "predictions = model.predict(img_array)\n",
        "\n",
        "# Get the predicted class label\n",
        "predicted_class = np.argmax(predictions[0])\n",
        "\n",
        "# Print the predicted class\n",
        "print(f'Predicted class index: {predicted_class}')"
      ]
    },
    {
      "cell_type": "code",
      "execution_count": 35,
      "metadata": {
        "colab": {
          "base_uri": "https://localhost:8080/"
        },
        "id": "zH2fLWZ_aghV",
        "outputId": "afdbe66c-6c96-4630-a163-f7fd82c8aeac"
      },
      "outputs": [
        {
          "name": "stdout",
          "output_type": "stream",
          "text": [
            "Class indices for training generator: {'Potato___Early_blight': 0, 'Potato___Late_blight': 1, 'Potato___healthy': 2}\n",
            "Class indices for validation generator: {'Potato___Early_blight': 0, 'Potato___Late_blight': 1, 'Potato___healthy': 2}\n",
            "Class labels for training generator: {0: 'Potato___Early_blight', 1: 'Potato___Late_blight', 2: 'Potato___healthy'}\n",
            "Class labels for validation generator: {0: 'Potato___Early_blight', 1: 'Potato___Late_blight', 2: 'Potato___healthy'}\n"
          ]
        }
      ],
      "source": [
        "# Class indices mapping for training generator\n",
        "train_class_indices = train_generator.class_indices\n",
        "print(\"Class indices for training generator:\", train_class_indices)\n",
        "\n",
        "# Class indices mapping for validation generator\n",
        "validation_class_indices = validation_generator.class_indices\n",
        "print(\"Class indices for validation generator:\", validation_class_indices)\n",
        "\n",
        "# Invert the dictionary to map indices to class labels\n",
        "train_label_indices = {v: k for k, v in train_class_indices.items()}\n",
        "validation_label_indices = {v: k for k, v in validation_class_indices.items()}\n",
        "\n",
        "# Print class labels corresponding to indices\n",
        "print(\"Class labels for training generator:\", train_label_indices)\n",
        "print(\"Class labels for validation generator:\", validation_label_indices)"
      ]
    }
  ],
  "metadata": {
    "accelerator": "GPU",
    "colab": {
      "gpuType": "T4",
      "provenance": []
    },
    "kernelspec": {
      "display_name": "Python 3",
      "name": "python3"
    },
    "language_info": {
      "codemirror_mode": {
        "name": "ipython",
        "version": 3
      },
      "file_extension": ".py",
      "mimetype": "text/x-python",
      "name": "python",
      "nbconvert_exporter": "python",
      "pygments_lexer": "ipython3",
      "version": "3.12.0"
    }
  },
  "nbformat": 4,
  "nbformat_minor": 0
}
